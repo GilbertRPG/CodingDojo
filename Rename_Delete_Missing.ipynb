{
  "nbformat": 4,
  "nbformat_minor": 0,
  "metadata": {
    "colab": {
      "name": "Rename_Delete_Missing.ipynb",
      "provenance": [],
      "collapsed_sections": [],
      "mount_file_id": "1Zgp9m0qVCjmZPtm_Lnrjz-aPsklfUHgb",
      "authorship_tag": "ABX9TyNVHLWf65CXvof6FA51Ca+p",
      "include_colab_link": true
    },
    "kernelspec": {
      "name": "python3",
      "display_name": "Python 3"
    },
    "language_info": {
      "name": "python"
    }
  },
  "cells": [
    {
      "cell_type": "markdown",
      "metadata": {
        "id": "view-in-github",
        "colab_type": "text"
      },
      "source": [
        "<a href=\"https://colab.research.google.com/github/GilbertRPG/CodingDojo/blob/main/Rename_Delete_Missing.ipynb\" target=\"_parent\"><img src=\"https://colab.research.google.com/assets/colab-badge.svg\" alt=\"Open In Colab\"/></a>"
      ]
    },
    {
      "cell_type": "code",
      "metadata": {
        "id": "nwTgfWMRzSsz"
      },
      "source": [
        "import pandas as pd"
      ],
      "execution_count": 68,
      "outputs": []
    },
    {
      "cell_type": "code",
      "metadata": {
        "colab": {
          "base_uri": "https://localhost:8080/",
          "height": 323
        },
        "id": "DhcbtOEyzupD",
        "outputId": "5a3338e2-b6ec-4c07-8e61-56a71bddf21c"
      },
      "source": [
        "bike_df = pd.read_excel('/content/drive/MyDrive/CodingDojo Collabs/RailsToTrails_National_Count_Data_week.xlsx')\n",
        "bike_df.head()"
      ],
      "execution_count": 69,
      "outputs": [
        {
          "output_type": "execute_result",
          "data": {
            "text/html": [
              "<div>\n",
              "<style scoped>\n",
              "    .dataframe tbody tr th:only-of-type {\n",
              "        vertical-align: middle;\n",
              "    }\n",
              "\n",
              "    .dataframe tbody tr th {\n",
              "        vertical-align: top;\n",
              "    }\n",
              "\n",
              "    .dataframe thead th {\n",
              "        text-align: right;\n",
              "    }\n",
              "</style>\n",
              "<table border=\"1\" class=\"dataframe\">\n",
              "  <thead>\n",
              "    <tr style=\"text-align: right;\">\n",
              "      <th></th>\n",
              "      <th>Timeframe</th>\n",
              "      <th>Week of</th>\n",
              "      <th>2019 counts (31 counters)</th>\n",
              "      <th>2020 counts (31 counters)</th>\n",
              "      <th>2021 Counts</th>\n",
              "      <th>Change 2019-2020</th>\n",
              "      <th>Unnamed: 6</th>\n",
              "      <th>Unnamed: 7</th>\n",
              "      <th>Unnamed: 8</th>\n",
              "      <th>Unnamed: 9</th>\n",
              "    </tr>\n",
              "  </thead>\n",
              "  <tbody>\n",
              "    <tr>\n",
              "      <th>0</th>\n",
              "      <td>Week 1</td>\n",
              "      <td>2020-12-30</td>\n",
              "      <td>167679</td>\n",
              "      <td>183546</td>\n",
              "      <td>NaN</td>\n",
              "      <td>0.094627</td>\n",
              "      <td>1.094627</td>\n",
              "      <td>NaN</td>\n",
              "      <td>NaN</td>\n",
              "      <td>NaN</td>\n",
              "    </tr>\n",
              "    <tr>\n",
              "      <th>1</th>\n",
              "      <td>Week 2</td>\n",
              "      <td>2020-01-06</td>\n",
              "      <td>82340</td>\n",
              "      <td>97140</td>\n",
              "      <td>NaN</td>\n",
              "      <td>0.179743</td>\n",
              "      <td>117.974253</td>\n",
              "      <td>NaN</td>\n",
              "      <td>NaN</td>\n",
              "      <td>NaN</td>\n",
              "    </tr>\n",
              "    <tr>\n",
              "      <th>2</th>\n",
              "      <td>Week 3</td>\n",
              "      <td>2020-01-13</td>\n",
              "      <td>62315</td>\n",
              "      <td>75782</td>\n",
              "      <td>NaN</td>\n",
              "      <td>0.216112</td>\n",
              "      <td>121.611169</td>\n",
              "      <td>NaN</td>\n",
              "      <td>NaN</td>\n",
              "      <td>NaN</td>\n",
              "    </tr>\n",
              "    <tr>\n",
              "      <th>3</th>\n",
              "      <td>Week 4</td>\n",
              "      <td>2020-01-20</td>\n",
              "      <td>75801</td>\n",
              "      <td>83809</td>\n",
              "      <td>NaN</td>\n",
              "      <td>0.105645</td>\n",
              "      <td>110.564504</td>\n",
              "      <td>NaN</td>\n",
              "      <td>NaN</td>\n",
              "      <td>NaN</td>\n",
              "    </tr>\n",
              "    <tr>\n",
              "      <th>4</th>\n",
              "      <td>Week 5</td>\n",
              "      <td>2020-01-27</td>\n",
              "      <td>75841</td>\n",
              "      <td>94738</td>\n",
              "      <td>NaN</td>\n",
              "      <td>0.249166</td>\n",
              "      <td>124.916602</td>\n",
              "      <td>NaN</td>\n",
              "      <td>NaN</td>\n",
              "      <td>NaN</td>\n",
              "    </tr>\n",
              "  </tbody>\n",
              "</table>\n",
              "</div>"
            ],
            "text/plain": [
              "  Timeframe    Week of  ...  Unnamed: 8  Unnamed: 9\n",
              "0    Week 1 2020-12-30  ...         NaN         NaN\n",
              "1    Week 2 2020-01-06  ...         NaN         NaN\n",
              "2    Week 3 2020-01-13  ...         NaN         NaN\n",
              "3    Week 4 2020-01-20  ...         NaN         NaN\n",
              "4    Week 5 2020-01-27  ...         NaN         NaN\n",
              "\n",
              "[5 rows x 10 columns]"
            ]
          },
          "metadata": {
            "tags": []
          },
          "execution_count": 69
        }
      ]
    },
    {
      "cell_type": "code",
      "metadata": {
        "colab": {
          "base_uri": "https://localhost:8080/"
        },
        "id": "HMXK_epTz_tY",
        "outputId": "e49203ff-d217-499f-c0dc-9ebacd48dd00"
      },
      "source": [
        "bike_df.info()"
      ],
      "execution_count": 70,
      "outputs": [
        {
          "output_type": "stream",
          "text": [
            "<class 'pandas.core.frame.DataFrame'>\n",
            "RangeIndex: 52 entries, 0 to 51\n",
            "Data columns (total 10 columns):\n",
            " #   Column                      Non-Null Count  Dtype         \n",
            "---  ------                      --------------  -----         \n",
            " 0   Timeframe                   52 non-null     object        \n",
            " 1   Week of                     52 non-null     datetime64[ns]\n",
            " 2    2019 counts (31 counters)  52 non-null     int64         \n",
            " 3    2020 counts (31 counters)  52 non-null     int64         \n",
            " 4   2021 Counts                 0 non-null      float64       \n",
            " 5   Change 2019-2020            52 non-null     float64       \n",
            " 6   Unnamed: 6                  52 non-null     float64       \n",
            " 7   Unnamed: 7                  0 non-null      float64       \n",
            " 8   Unnamed: 8                  1 non-null      float64       \n",
            " 9   Unnamed: 9                  1 non-null      float64       \n",
            "dtypes: datetime64[ns](1), float64(6), int64(2), object(1)\n",
            "memory usage: 4.2+ KB\n"
          ],
          "name": "stdout"
        }
      ]
    },
    {
      "cell_type": "code",
      "metadata": {
        "colab": {
          "base_uri": "https://localhost:8080/",
          "height": 323
        },
        "id": "SL0pI8UW1OMw",
        "outputId": "3f797a3d-4089-4a86-cdec-55763b90aef9"
      },
      "source": [
        "WhatsMissing = bike_df['Unnamed: 7'].isna()\n",
        "bike_df.loc[WhatsMissing, :].head()"
      ],
      "execution_count": 71,
      "outputs": [
        {
          "output_type": "execute_result",
          "data": {
            "text/html": [
              "<div>\n",
              "<style scoped>\n",
              "    .dataframe tbody tr th:only-of-type {\n",
              "        vertical-align: middle;\n",
              "    }\n",
              "\n",
              "    .dataframe tbody tr th {\n",
              "        vertical-align: top;\n",
              "    }\n",
              "\n",
              "    .dataframe thead th {\n",
              "        text-align: right;\n",
              "    }\n",
              "</style>\n",
              "<table border=\"1\" class=\"dataframe\">\n",
              "  <thead>\n",
              "    <tr style=\"text-align: right;\">\n",
              "      <th></th>\n",
              "      <th>Timeframe</th>\n",
              "      <th>Week of</th>\n",
              "      <th>2019 counts (31 counters)</th>\n",
              "      <th>2020 counts (31 counters)</th>\n",
              "      <th>2021 Counts</th>\n",
              "      <th>Change 2019-2020</th>\n",
              "      <th>Unnamed: 6</th>\n",
              "      <th>Unnamed: 7</th>\n",
              "      <th>Unnamed: 8</th>\n",
              "      <th>Unnamed: 9</th>\n",
              "    </tr>\n",
              "  </thead>\n",
              "  <tbody>\n",
              "    <tr>\n",
              "      <th>0</th>\n",
              "      <td>Week 1</td>\n",
              "      <td>2020-12-30</td>\n",
              "      <td>167679</td>\n",
              "      <td>183546</td>\n",
              "      <td>NaN</td>\n",
              "      <td>0.094627</td>\n",
              "      <td>1.094627</td>\n",
              "      <td>NaN</td>\n",
              "      <td>NaN</td>\n",
              "      <td>NaN</td>\n",
              "    </tr>\n",
              "    <tr>\n",
              "      <th>1</th>\n",
              "      <td>Week 2</td>\n",
              "      <td>2020-01-06</td>\n",
              "      <td>82340</td>\n",
              "      <td>97140</td>\n",
              "      <td>NaN</td>\n",
              "      <td>0.179743</td>\n",
              "      <td>117.974253</td>\n",
              "      <td>NaN</td>\n",
              "      <td>NaN</td>\n",
              "      <td>NaN</td>\n",
              "    </tr>\n",
              "    <tr>\n",
              "      <th>2</th>\n",
              "      <td>Week 3</td>\n",
              "      <td>2020-01-13</td>\n",
              "      <td>62315</td>\n",
              "      <td>75782</td>\n",
              "      <td>NaN</td>\n",
              "      <td>0.216112</td>\n",
              "      <td>121.611169</td>\n",
              "      <td>NaN</td>\n",
              "      <td>NaN</td>\n",
              "      <td>NaN</td>\n",
              "    </tr>\n",
              "    <tr>\n",
              "      <th>3</th>\n",
              "      <td>Week 4</td>\n",
              "      <td>2020-01-20</td>\n",
              "      <td>75801</td>\n",
              "      <td>83809</td>\n",
              "      <td>NaN</td>\n",
              "      <td>0.105645</td>\n",
              "      <td>110.564504</td>\n",
              "      <td>NaN</td>\n",
              "      <td>NaN</td>\n",
              "      <td>NaN</td>\n",
              "    </tr>\n",
              "    <tr>\n",
              "      <th>4</th>\n",
              "      <td>Week 5</td>\n",
              "      <td>2020-01-27</td>\n",
              "      <td>75841</td>\n",
              "      <td>94738</td>\n",
              "      <td>NaN</td>\n",
              "      <td>0.249166</td>\n",
              "      <td>124.916602</td>\n",
              "      <td>NaN</td>\n",
              "      <td>NaN</td>\n",
              "      <td>NaN</td>\n",
              "    </tr>\n",
              "  </tbody>\n",
              "</table>\n",
              "</div>"
            ],
            "text/plain": [
              "  Timeframe    Week of  ...  Unnamed: 8  Unnamed: 9\n",
              "0    Week 1 2020-12-30  ...         NaN         NaN\n",
              "1    Week 2 2020-01-06  ...         NaN         NaN\n",
              "2    Week 3 2020-01-13  ...         NaN         NaN\n",
              "3    Week 4 2020-01-20  ...         NaN         NaN\n",
              "4    Week 5 2020-01-27  ...         NaN         NaN\n",
              "\n",
              "[5 rows x 10 columns]"
            ]
          },
          "metadata": {
            "tags": []
          },
          "execution_count": 71
        }
      ]
    },
    {
      "cell_type": "code",
      "metadata": {
        "id": "atF6WUbT1ynM"
      },
      "source": [
        "bike_df = bike_df.drop(labels=['Unnamed: 7', 'Unnamed: 8', 'Unnamed: 9'], axis = 1)"
      ],
      "execution_count": 72,
      "outputs": []
    },
    {
      "cell_type": "code",
      "metadata": {
        "colab": {
          "base_uri": "https://localhost:8080/",
          "height": 306
        },
        "id": "18j0nXOf2xcy",
        "outputId": "23d96c71-163f-43d0-dabc-e6b5d468673b"
      },
      "source": [
        "bike_df.head()"
      ],
      "execution_count": 73,
      "outputs": [
        {
          "output_type": "execute_result",
          "data": {
            "text/html": [
              "<div>\n",
              "<style scoped>\n",
              "    .dataframe tbody tr th:only-of-type {\n",
              "        vertical-align: middle;\n",
              "    }\n",
              "\n",
              "    .dataframe tbody tr th {\n",
              "        vertical-align: top;\n",
              "    }\n",
              "\n",
              "    .dataframe thead th {\n",
              "        text-align: right;\n",
              "    }\n",
              "</style>\n",
              "<table border=\"1\" class=\"dataframe\">\n",
              "  <thead>\n",
              "    <tr style=\"text-align: right;\">\n",
              "      <th></th>\n",
              "      <th>Timeframe</th>\n",
              "      <th>Week of</th>\n",
              "      <th>2019 counts (31 counters)</th>\n",
              "      <th>2020 counts (31 counters)</th>\n",
              "      <th>2021 Counts</th>\n",
              "      <th>Change 2019-2020</th>\n",
              "      <th>Unnamed: 6</th>\n",
              "    </tr>\n",
              "  </thead>\n",
              "  <tbody>\n",
              "    <tr>\n",
              "      <th>0</th>\n",
              "      <td>Week 1</td>\n",
              "      <td>2020-12-30</td>\n",
              "      <td>167679</td>\n",
              "      <td>183546</td>\n",
              "      <td>NaN</td>\n",
              "      <td>0.094627</td>\n",
              "      <td>1.094627</td>\n",
              "    </tr>\n",
              "    <tr>\n",
              "      <th>1</th>\n",
              "      <td>Week 2</td>\n",
              "      <td>2020-01-06</td>\n",
              "      <td>82340</td>\n",
              "      <td>97140</td>\n",
              "      <td>NaN</td>\n",
              "      <td>0.179743</td>\n",
              "      <td>117.974253</td>\n",
              "    </tr>\n",
              "    <tr>\n",
              "      <th>2</th>\n",
              "      <td>Week 3</td>\n",
              "      <td>2020-01-13</td>\n",
              "      <td>62315</td>\n",
              "      <td>75782</td>\n",
              "      <td>NaN</td>\n",
              "      <td>0.216112</td>\n",
              "      <td>121.611169</td>\n",
              "    </tr>\n",
              "    <tr>\n",
              "      <th>3</th>\n",
              "      <td>Week 4</td>\n",
              "      <td>2020-01-20</td>\n",
              "      <td>75801</td>\n",
              "      <td>83809</td>\n",
              "      <td>NaN</td>\n",
              "      <td>0.105645</td>\n",
              "      <td>110.564504</td>\n",
              "    </tr>\n",
              "    <tr>\n",
              "      <th>4</th>\n",
              "      <td>Week 5</td>\n",
              "      <td>2020-01-27</td>\n",
              "      <td>75841</td>\n",
              "      <td>94738</td>\n",
              "      <td>NaN</td>\n",
              "      <td>0.249166</td>\n",
              "      <td>124.916602</td>\n",
              "    </tr>\n",
              "  </tbody>\n",
              "</table>\n",
              "</div>"
            ],
            "text/plain": [
              "  Timeframe    Week of  ...  Change 2019-2020  Unnamed: 6\n",
              "0    Week 1 2020-12-30  ...          0.094627    1.094627\n",
              "1    Week 2 2020-01-06  ...          0.179743  117.974253\n",
              "2    Week 3 2020-01-13  ...          0.216112  121.611169\n",
              "3    Week 4 2020-01-20  ...          0.105645  110.564504\n",
              "4    Week 5 2020-01-27  ...          0.249166  124.916602\n",
              "\n",
              "[5 rows x 7 columns]"
            ]
          },
          "metadata": {
            "tags": []
          },
          "execution_count": 73
        }
      ]
    },
    {
      "cell_type": "code",
      "metadata": {
        "colab": {
          "base_uri": "https://localhost:8080/",
          "height": 306
        },
        "id": "NT-0szcZ8JIf",
        "outputId": "d59739c1-5dd1-4114-bfde-fe4238d185ef"
      },
      "source": [
        "newColumns = {'2019 counts (31 counters)':'counts_2019', 'Unnamed: 6':'percent_change'} # for some secret reason, the dictonary doesn't replace the counts_2019...\n",
        "bike_df = bike_df.rename(columns=newColumns)\n",
        "bike_df.head()"
      ],
      "execution_count": 74,
      "outputs": [
        {
          "output_type": "execute_result",
          "data": {
            "text/html": [
              "<div>\n",
              "<style scoped>\n",
              "    .dataframe tbody tr th:only-of-type {\n",
              "        vertical-align: middle;\n",
              "    }\n",
              "\n",
              "    .dataframe tbody tr th {\n",
              "        vertical-align: top;\n",
              "    }\n",
              "\n",
              "    .dataframe thead th {\n",
              "        text-align: right;\n",
              "    }\n",
              "</style>\n",
              "<table border=\"1\" class=\"dataframe\">\n",
              "  <thead>\n",
              "    <tr style=\"text-align: right;\">\n",
              "      <th></th>\n",
              "      <th>Timeframe</th>\n",
              "      <th>Week of</th>\n",
              "      <th>2019 counts (31 counters)</th>\n",
              "      <th>2020 counts (31 counters)</th>\n",
              "      <th>2021 Counts</th>\n",
              "      <th>Change 2019-2020</th>\n",
              "      <th>percent_change</th>\n",
              "    </tr>\n",
              "  </thead>\n",
              "  <tbody>\n",
              "    <tr>\n",
              "      <th>0</th>\n",
              "      <td>Week 1</td>\n",
              "      <td>2020-12-30</td>\n",
              "      <td>167679</td>\n",
              "      <td>183546</td>\n",
              "      <td>NaN</td>\n",
              "      <td>0.094627</td>\n",
              "      <td>1.094627</td>\n",
              "    </tr>\n",
              "    <tr>\n",
              "      <th>1</th>\n",
              "      <td>Week 2</td>\n",
              "      <td>2020-01-06</td>\n",
              "      <td>82340</td>\n",
              "      <td>97140</td>\n",
              "      <td>NaN</td>\n",
              "      <td>0.179743</td>\n",
              "      <td>117.974253</td>\n",
              "    </tr>\n",
              "    <tr>\n",
              "      <th>2</th>\n",
              "      <td>Week 3</td>\n",
              "      <td>2020-01-13</td>\n",
              "      <td>62315</td>\n",
              "      <td>75782</td>\n",
              "      <td>NaN</td>\n",
              "      <td>0.216112</td>\n",
              "      <td>121.611169</td>\n",
              "    </tr>\n",
              "    <tr>\n",
              "      <th>3</th>\n",
              "      <td>Week 4</td>\n",
              "      <td>2020-01-20</td>\n",
              "      <td>75801</td>\n",
              "      <td>83809</td>\n",
              "      <td>NaN</td>\n",
              "      <td>0.105645</td>\n",
              "      <td>110.564504</td>\n",
              "    </tr>\n",
              "    <tr>\n",
              "      <th>4</th>\n",
              "      <td>Week 5</td>\n",
              "      <td>2020-01-27</td>\n",
              "      <td>75841</td>\n",
              "      <td>94738</td>\n",
              "      <td>NaN</td>\n",
              "      <td>0.249166</td>\n",
              "      <td>124.916602</td>\n",
              "    </tr>\n",
              "  </tbody>\n",
              "</table>\n",
              "</div>"
            ],
            "text/plain": [
              "  Timeframe    Week of  ...  Change 2019-2020  percent_change\n",
              "0    Week 1 2020-12-30  ...          0.094627        1.094627\n",
              "1    Week 2 2020-01-06  ...          0.179743      117.974253\n",
              "2    Week 3 2020-01-13  ...          0.216112      121.611169\n",
              "3    Week 4 2020-01-20  ...          0.105645      110.564504\n",
              "4    Week 5 2020-01-27  ...          0.249166      124.916602\n",
              "\n",
              "[5 rows x 7 columns]"
            ]
          },
          "metadata": {
            "tags": []
          },
          "execution_count": 74
        }
      ]
    },
    {
      "cell_type": "code",
      "metadata": {
        "id": "ueYtRZ-q9wD2"
      },
      "source": [
        "bike_df = bike_df.fillna(0, axis = 1)"
      ],
      "execution_count": 75,
      "outputs": []
    },
    {
      "cell_type": "code",
      "metadata": {
        "colab": {
          "base_uri": "https://localhost:8080/",
          "height": 306
        },
        "id": "Z3mpLRH7_uR6",
        "outputId": "f9d78731-411f-42c2-f403-bae11dc1d0f4"
      },
      "source": [
        "bike_df.head()"
      ],
      "execution_count": 76,
      "outputs": [
        {
          "output_type": "execute_result",
          "data": {
            "text/html": [
              "<div>\n",
              "<style scoped>\n",
              "    .dataframe tbody tr th:only-of-type {\n",
              "        vertical-align: middle;\n",
              "    }\n",
              "\n",
              "    .dataframe tbody tr th {\n",
              "        vertical-align: top;\n",
              "    }\n",
              "\n",
              "    .dataframe thead th {\n",
              "        text-align: right;\n",
              "    }\n",
              "</style>\n",
              "<table border=\"1\" class=\"dataframe\">\n",
              "  <thead>\n",
              "    <tr style=\"text-align: right;\">\n",
              "      <th></th>\n",
              "      <th>Timeframe</th>\n",
              "      <th>Week of</th>\n",
              "      <th>2019 counts (31 counters)</th>\n",
              "      <th>2020 counts (31 counters)</th>\n",
              "      <th>2021 Counts</th>\n",
              "      <th>Change 2019-2020</th>\n",
              "      <th>percent_change</th>\n",
              "    </tr>\n",
              "  </thead>\n",
              "  <tbody>\n",
              "    <tr>\n",
              "      <th>0</th>\n",
              "      <td>Week 1</td>\n",
              "      <td>2020-12-30</td>\n",
              "      <td>167679</td>\n",
              "      <td>183546</td>\n",
              "      <td>0.0</td>\n",
              "      <td>0.094627</td>\n",
              "      <td>1.094627</td>\n",
              "    </tr>\n",
              "    <tr>\n",
              "      <th>1</th>\n",
              "      <td>Week 2</td>\n",
              "      <td>2020-01-06</td>\n",
              "      <td>82340</td>\n",
              "      <td>97140</td>\n",
              "      <td>0.0</td>\n",
              "      <td>0.179743</td>\n",
              "      <td>117.974253</td>\n",
              "    </tr>\n",
              "    <tr>\n",
              "      <th>2</th>\n",
              "      <td>Week 3</td>\n",
              "      <td>2020-01-13</td>\n",
              "      <td>62315</td>\n",
              "      <td>75782</td>\n",
              "      <td>0.0</td>\n",
              "      <td>0.216112</td>\n",
              "      <td>121.611169</td>\n",
              "    </tr>\n",
              "    <tr>\n",
              "      <th>3</th>\n",
              "      <td>Week 4</td>\n",
              "      <td>2020-01-20</td>\n",
              "      <td>75801</td>\n",
              "      <td>83809</td>\n",
              "      <td>0.0</td>\n",
              "      <td>0.105645</td>\n",
              "      <td>110.564504</td>\n",
              "    </tr>\n",
              "    <tr>\n",
              "      <th>4</th>\n",
              "      <td>Week 5</td>\n",
              "      <td>2020-01-27</td>\n",
              "      <td>75841</td>\n",
              "      <td>94738</td>\n",
              "      <td>0.0</td>\n",
              "      <td>0.249166</td>\n",
              "      <td>124.916602</td>\n",
              "    </tr>\n",
              "  </tbody>\n",
              "</table>\n",
              "</div>"
            ],
            "text/plain": [
              "  Timeframe    Week of  ...  Change 2019-2020  percent_change\n",
              "0    Week 1 2020-12-30  ...          0.094627        1.094627\n",
              "1    Week 2 2020-01-06  ...          0.179743      117.974253\n",
              "2    Week 3 2020-01-13  ...          0.216112      121.611169\n",
              "3    Week 4 2020-01-20  ...          0.105645      110.564504\n",
              "4    Week 5 2020-01-27  ...          0.249166      124.916602\n",
              "\n",
              "[5 rows x 7 columns]"
            ]
          },
          "metadata": {
            "tags": []
          },
          "execution_count": 76
        }
      ]
    }
  ]
}