{
 "metadata": {
  "language_info": {
   "codemirror_mode": {
    "name": "ipython",
    "version": 3
   },
   "file_extension": ".py",
   "mimetype": "text/x-python",
   "name": "python",
   "nbconvert_exporter": "python",
   "pygments_lexer": "ipython3",
   "version": "3.8.5"
  },
  "orig_nbformat": 2,
  "kernelspec": {
   "name": "python385jvsc74a57bd0bf2fa2c76e35122d9b838ef88703268f3b9f47301097ab9fa91501a8a12dc50b",
   "display_name": "Python 3.8.5 64-bit"
  }
 },
 "nbformat": 4,
 "nbformat_minor": 2,
 "cells": [
  {
   "source": [],
   "cell_type": "code",
   "metadata": {},
   "execution_count": null,
   "outputs": []
  },
  {
   "cell_type": "code",
   "execution_count": 1,
   "metadata": {},
   "outputs": [],
   "source": [
    "import pandas as pd"
   ]
  },
  {
   "cell_type": "code",
   "execution_count": 3,
   "metadata": {},
   "outputs": [
    {
     "output_type": "execute_result",
     "data": {
      "text/plain": [
       "   Month  Starting Balance  Repayment  Interest Paid  Principal Paid  \\\n",
       "0      1         400000.00    1686.42        1000.00          686.42   \n",
       "1      2         399313.58    1686.42         998.28          688.14   \n",
       "2      3         398625.44    1686.42         996.56          689.86   \n",
       "3      4         397935.58    1686.42         994.83          691.59   \n",
       "4      5         397243.99    1686.42         993.10          693.32   \n",
       "\n",
       "   New Balance Mortgage Name  Interest Rate  \n",
       "0    399313.58       30 Year           0.03  \n",
       "1    398625.44       30 Year           0.03  \n",
       "2    397935.58       30 Year           0.03  \n",
       "3    397243.99       30 Year           0.03  \n",
       "4    396550.67       30 Year           0.03  "
      ],
      "text/html": "<div>\n<style scoped>\n    .dataframe tbody tr th:only-of-type {\n        vertical-align: middle;\n    }\n\n    .dataframe tbody tr th {\n        vertical-align: top;\n    }\n\n    .dataframe thead th {\n        text-align: right;\n    }\n</style>\n<table border=\"1\" class=\"dataframe\">\n  <thead>\n    <tr style=\"text-align: right;\">\n      <th></th>\n      <th>Month</th>\n      <th>Starting Balance</th>\n      <th>Repayment</th>\n      <th>Interest Paid</th>\n      <th>Principal Paid</th>\n      <th>New Balance</th>\n      <th>Mortgage Name</th>\n      <th>Interest Rate</th>\n    </tr>\n  </thead>\n  <tbody>\n    <tr>\n      <th>0</th>\n      <td>1</td>\n      <td>400000.00</td>\n      <td>1686.42</td>\n      <td>1000.00</td>\n      <td>686.42</td>\n      <td>399313.58</td>\n      <td>30 Year</td>\n      <td>0.03</td>\n    </tr>\n    <tr>\n      <th>1</th>\n      <td>2</td>\n      <td>399313.58</td>\n      <td>1686.42</td>\n      <td>998.28</td>\n      <td>688.14</td>\n      <td>398625.44</td>\n      <td>30 Year</td>\n      <td>0.03</td>\n    </tr>\n    <tr>\n      <th>2</th>\n      <td>3</td>\n      <td>398625.44</td>\n      <td>1686.42</td>\n      <td>996.56</td>\n      <td>689.86</td>\n      <td>397935.58</td>\n      <td>30 Year</td>\n      <td>0.03</td>\n    </tr>\n    <tr>\n      <th>3</th>\n      <td>4</td>\n      <td>397935.58</td>\n      <td>1686.42</td>\n      <td>994.83</td>\n      <td>691.59</td>\n      <td>397243.99</td>\n      <td>30 Year</td>\n      <td>0.03</td>\n    </tr>\n    <tr>\n      <th>4</th>\n      <td>5</td>\n      <td>397243.99</td>\n      <td>1686.42</td>\n      <td>993.10</td>\n      <td>693.32</td>\n      <td>396550.67</td>\n      <td>30 Year</td>\n      <td>0.03</td>\n    </tr>\n  </tbody>\n</table>\n</div>"
     },
     "metadata": {},
     "execution_count": 3
    }
   ],
   "source": [
    "df = pd.read_csv('C:/Users/ymitropo/Downloads/mortgages.csv')\n",
    "df.head()"
   ]
  },
  {
   "cell_type": "code",
   "execution_count": 4,
   "metadata": {},
   "outputs": [
    {
     "output_type": "execute_result",
     "data": {
      "text/plain": [
       "30 Year    720\n",
       "15 Year    360\n",
       "Name: Mortgage Name, dtype: int64"
      ]
     },
     "metadata": {},
     "execution_count": 4
    }
   ],
   "source": [
    "df[\"Mortgage Name\"].value_counts() # This looks at the vaules contained inside \"Mortgage Name\". This returns the 30 Year and 15 Year mortgages, along with the count of how many instances there are."
   ]
  },
  {
   "cell_type": "code",
   "execution_count": 5,
   "metadata": {},
   "outputs": [
    {
     "output_type": "execute_result",
     "data": {
      "text/plain": [
       "0    True\n",
       "1    True\n",
       "2    True\n",
       "3    True\n",
       "4    True\n",
       "Name: Mortgage Name, dtype: bool"
      ]
     },
     "metadata": {},
     "execution_count": 5
    }
   ],
   "source": [
    "mortgage_filter = df['Mortgage Name'] == '30 Year' # This will give us ONLY the 30 year mortgages in our .csv, however it returns either true or false as it is a comparison operator.\n",
    "mortgage_filter.head()"
   ]
  },
  {
   "cell_type": "code",
   "execution_count": 6,
   "metadata": {},
   "outputs": [
    {
     "output_type": "execute_result",
     "data": {
      "text/plain": [
       "   Month  Starting Balance  Repayment  Interest Paid  Principal Paid  \\\n",
       "0      1         400000.00    1686.42        1000.00          686.42   \n",
       "1      2         399313.58    1686.42         998.28          688.14   \n",
       "2      3         398625.44    1686.42         996.56          689.86   \n",
       "3      4         397935.58    1686.42         994.83          691.59   \n",
       "4      5         397243.99    1686.42         993.10          693.32   \n",
       "\n",
       "   New Balance Mortgage Name  Interest Rate  \n",
       "0    399313.58       30 Year           0.03  \n",
       "1    398625.44       30 Year           0.03  \n",
       "2    397935.58       30 Year           0.03  \n",
       "3    397243.99       30 Year           0.03  \n",
       "4    396550.67       30 Year           0.03  "
      ],
      "text/html": "<div>\n<style scoped>\n    .dataframe tbody tr th:only-of-type {\n        vertical-align: middle;\n    }\n\n    .dataframe tbody tr th {\n        vertical-align: top;\n    }\n\n    .dataframe thead th {\n        text-align: right;\n    }\n</style>\n<table border=\"1\" class=\"dataframe\">\n  <thead>\n    <tr style=\"text-align: right;\">\n      <th></th>\n      <th>Month</th>\n      <th>Starting Balance</th>\n      <th>Repayment</th>\n      <th>Interest Paid</th>\n      <th>Principal Paid</th>\n      <th>New Balance</th>\n      <th>Mortgage Name</th>\n      <th>Interest Rate</th>\n    </tr>\n  </thead>\n  <tbody>\n    <tr>\n      <th>0</th>\n      <td>1</td>\n      <td>400000.00</td>\n      <td>1686.42</td>\n      <td>1000.00</td>\n      <td>686.42</td>\n      <td>399313.58</td>\n      <td>30 Year</td>\n      <td>0.03</td>\n    </tr>\n    <tr>\n      <th>1</th>\n      <td>2</td>\n      <td>399313.58</td>\n      <td>1686.42</td>\n      <td>998.28</td>\n      <td>688.14</td>\n      <td>398625.44</td>\n      <td>30 Year</td>\n      <td>0.03</td>\n    </tr>\n    <tr>\n      <th>2</th>\n      <td>3</td>\n      <td>398625.44</td>\n      <td>1686.42</td>\n      <td>996.56</td>\n      <td>689.86</td>\n      <td>397935.58</td>\n      <td>30 Year</td>\n      <td>0.03</td>\n    </tr>\n    <tr>\n      <th>3</th>\n      <td>4</td>\n      <td>397935.58</td>\n      <td>1686.42</td>\n      <td>994.83</td>\n      <td>691.59</td>\n      <td>397243.99</td>\n      <td>30 Year</td>\n      <td>0.03</td>\n    </tr>\n    <tr>\n      <th>4</th>\n      <td>5</td>\n      <td>397243.99</td>\n      <td>1686.42</td>\n      <td>993.10</td>\n      <td>693.32</td>\n      <td>396550.67</td>\n      <td>30 Year</td>\n      <td>0.03</td>\n    </tr>\n  </tbody>\n</table>\n</div>"
     },
     "metadata": {},
     "execution_count": 6
    }
   ],
   "source": [
    "df[mortgage_filter].head() # Here we're calling our mortgage_filter and putting it into a df to display our values visually. This is approach #1."
   ]
  },
  {
   "cell_type": "code",
   "execution_count": null,
   "metadata": {},
   "outputs": [],
   "source": [
    "df.loc[mortgage_filter, :].head() # This filters our df to only 30 year mortgages, same as above, however we can specify"
   ]
  }
 ]
}