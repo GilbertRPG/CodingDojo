{
 "cells": [
  {
   "cell_type": "code",
   "execution_count": 28,
   "metadata": {},
   "outputs": [],
   "source": [
    "import pandas as pd\n",
    "import numpy as np\n",
    "import seaborn as sns\n",
    "import matplotlib.pyplot as plt"
   ]
  },
  {
   "cell_type": "code",
   "execution_count": 2,
   "metadata": {},
   "outputs": [],
   "source": [
    "file = 'C:/Users/yanni/Documents/GitHub/CodingDojo/ExcelData/catsvdogs.xlsx'\n",
    "dogvcat = pd.read_excel(file, engine = 'openpyxl')"
   ]
  },
  {
   "cell_type": "markdown",
   "metadata": {},
   "source": [
    "1. Plot a histogram of the Percentage of Dog Owners.\n",
    "\n",
    "2. Plot a histogram of the Percentage of Cat Owners.\n",
    "\n",
    "    3a. What can we see by comparing these two histograms? What information does this tell us?\n",
    "\n",
    "    3b. Optional/Bonus: plot these two histograms on the same plot. An example of what this could look like is given below:\n",
    "\n",
    "4. Create two boxplots on the same plot: one of the mean number of cats per household and the other of the mean number of dogs. An example of what this might look like is given below:\n",
    "\n",
    "5. What can we see by comparing these two boxplots? What information does this tell us?\n",
    "\n",
    "Turn in a notebook with your code and answers to these 5 questions."
   ]
  },
  {
   "cell_type": "code",
   "execution_count": 10,
   "metadata": {},
   "outputs": [
    {
     "data": {
      "text/html": [
       "<div>\n",
       "<style scoped>\n",
       "    .dataframe tbody tr th:only-of-type {\n",
       "        vertical-align: middle;\n",
       "    }\n",
       "\n",
       "    .dataframe tbody tr th {\n",
       "        vertical-align: top;\n",
       "    }\n",
       "\n",
       "    .dataframe thead th {\n",
       "        text-align: right;\n",
       "    }\n",
       "</style>\n",
       "<table border=\"1\" class=\"dataframe\">\n",
       "  <thead>\n",
       "    <tr style=\"text-align: right;\">\n",
       "      <th></th>\n",
       "      <th>Location</th>\n",
       "      <th>Number of Households (in 1000)</th>\n",
       "      <th>Percentage of households with pets</th>\n",
       "      <th>Number of Pet Households (in 1000)</th>\n",
       "      <th>Percentage of Dog Owners</th>\n",
       "      <th>Dog Owning Households (1000s)</th>\n",
       "      <th>Mean Number of Dogs per household</th>\n",
       "      <th>Dog Population (in 1000)</th>\n",
       "      <th>Percentage of Cat Owners</th>\n",
       "      <th>Cat Owning Households</th>\n",
       "      <th>Mean Number of Cats</th>\n",
       "      <th>Cat Population</th>\n",
       "      <th>Unnamed: 12</th>\n",
       "    </tr>\n",
       "  </thead>\n",
       "  <tbody>\n",
       "    <tr>\n",
       "      <th>0</th>\n",
       "      <td>Alabama</td>\n",
       "      <td>1828.0</td>\n",
       "      <td>59.5</td>\n",
       "      <td>1088.0</td>\n",
       "      <td>44.1</td>\n",
       "      <td>807.0</td>\n",
       "      <td>1.7</td>\n",
       "      <td>1410.0</td>\n",
       "      <td>27.4</td>\n",
       "      <td>501.0</td>\n",
       "      <td>2.5</td>\n",
       "      <td>1252.0</td>\n",
       "      <td>NaN</td>\n",
       "    </tr>\n",
       "    <tr>\n",
       "      <th>1</th>\n",
       "      <td>Arizona</td>\n",
       "      <td>2515.0</td>\n",
       "      <td>59.5</td>\n",
       "      <td>1497.0</td>\n",
       "      <td>40.1</td>\n",
       "      <td>1008.0</td>\n",
       "      <td>1.8</td>\n",
       "      <td>1798.0</td>\n",
       "      <td>29.6</td>\n",
       "      <td>743.0</td>\n",
       "      <td>1.9</td>\n",
       "      <td>1438.0</td>\n",
       "      <td>NaN</td>\n",
       "    </tr>\n",
       "    <tr>\n",
       "      <th>2</th>\n",
       "      <td>Arkansas</td>\n",
       "      <td>1148.0</td>\n",
       "      <td>62.4</td>\n",
       "      <td>716.0</td>\n",
       "      <td>47.9</td>\n",
       "      <td>550.0</td>\n",
       "      <td>2.0</td>\n",
       "      <td>1097.0</td>\n",
       "      <td>30.6</td>\n",
       "      <td>351.0</td>\n",
       "      <td>2.3</td>\n",
       "      <td>810.0</td>\n",
       "      <td>NaN</td>\n",
       "    </tr>\n",
       "    <tr>\n",
       "      <th>3</th>\n",
       "      <td>California</td>\n",
       "      <td>12974.0</td>\n",
       "      <td>52.9</td>\n",
       "      <td>6865.0</td>\n",
       "      <td>32.8</td>\n",
       "      <td>4260.0</td>\n",
       "      <td>1.6</td>\n",
       "      <td>6687.0</td>\n",
       "      <td>28.3</td>\n",
       "      <td>3687.0</td>\n",
       "      <td>1.9</td>\n",
       "      <td>7118.0</td>\n",
       "      <td>NaN</td>\n",
       "    </tr>\n",
       "    <tr>\n",
       "      <th>4</th>\n",
       "      <td>Colorado</td>\n",
       "      <td>1986.0</td>\n",
       "      <td>61.3</td>\n",
       "      <td>1217.0</td>\n",
       "      <td>42.5</td>\n",
       "      <td>845.0</td>\n",
       "      <td>1.6</td>\n",
       "      <td>1349.0</td>\n",
       "      <td>32.3</td>\n",
       "      <td>642.0</td>\n",
       "      <td>1.9</td>\n",
       "      <td>1191.0</td>\n",
       "      <td>NaN</td>\n",
       "    </tr>\n",
       "  </tbody>\n",
       "</table>\n",
       "</div>"
      ],
      "text/plain": [
       "     Location  Number of Households (in 1000)  \\\n",
       "0     Alabama                          1828.0   \n",
       "1     Arizona                          2515.0   \n",
       "2    Arkansas                          1148.0   \n",
       "3  California                         12974.0   \n",
       "4    Colorado                          1986.0   \n",
       "\n",
       "   Percentage of households with pets  Number of Pet Households (in 1000)  \\\n",
       "0                                59.5                              1088.0   \n",
       "1                                59.5                              1497.0   \n",
       "2                                62.4                               716.0   \n",
       "3                                52.9                              6865.0   \n",
       "4                                61.3                              1217.0   \n",
       "\n",
       "   Percentage of Dog Owners  Dog Owning Households (1000s)  \\\n",
       "0                      44.1                          807.0   \n",
       "1                      40.1                         1008.0   \n",
       "2                      47.9                          550.0   \n",
       "3                      32.8                         4260.0   \n",
       "4                      42.5                          845.0   \n",
       "\n",
       "   Mean Number of Dogs per household  Dog Population (in 1000)  \\\n",
       "0                                1.7                    1410.0   \n",
       "1                                1.8                    1798.0   \n",
       "2                                2.0                    1097.0   \n",
       "3                                1.6                    6687.0   \n",
       "4                                1.6                    1349.0   \n",
       "\n",
       "   Percentage of Cat Owners  Cat Owning Households  Mean Number of Cats  \\\n",
       "0                      27.4                  501.0                  2.5   \n",
       "1                      29.6                  743.0                  1.9   \n",
       "2                      30.6                  351.0                  2.3   \n",
       "3                      28.3                 3687.0                  1.9   \n",
       "4                      32.3                  642.0                  1.9   \n",
       "\n",
       "   Cat Population  Unnamed: 12  \n",
       "0          1252.0          NaN  \n",
       "1          1438.0          NaN  \n",
       "2           810.0          NaN  \n",
       "3          7118.0          NaN  \n",
       "4          1191.0          NaN  "
      ]
     },
     "execution_count": 10,
     "metadata": {},
     "output_type": "execute_result"
    }
   ],
   "source": [
    "dogvcat.head()"
   ]
  },
  {
   "cell_type": "markdown",
   "metadata": {},
   "source": [
    "1. Plot a histogram of the Percentage of Dog Owners."
   ]
  },
  {
   "cell_type": "code",
   "execution_count": 23,
   "metadata": {},
   "outputs": [
    {
     "data": {
      "image/png": "[encoded data removed]",
      "text/plain": [
       "<Figure size 432x288 with 1 Axes>"
      ]
     },
     "metadata": {
      "needs_background": "light"
     },
     "output_type": "display_data"
    }
   ],
   "source": [
    "# Histogram of the percentage of dog owners.\n",
    "dogvcat['Percentage of Dog Owners'].hist(bins=30, edgecolor='black');"
   ]
  },
  {
   "cell_type": "code",
   "execution_count": 22,
   "metadata": {},
   "outputs": [
    {
     "data": {
      "image/png": "[encoded data removed]",
      "text/plain": [
       "<Figure size 432x288 with 1 Axes>"
      ]
     },
     "metadata": {
      "needs_background": "light"
     },
     "output_type": "display_data"
    }
   ],
   "source": [
    "# Doing some EDA to understand where our highest count of dog owners are at. ~27-46%\n",
    "dogFilter = dogvcat.loc[:, 'Percentage of Dog Owners'] >=20\n",
    "dogvcat.loc[dogFilter, 'Percentage of Dog Owners'].hist(bins=30, edgecolor='black');"
   ]
  },
  {
   "cell_type": "markdown",
   "metadata": {},
   "source": [
    "2. Plot a histogram of the Percentage of Cat Owners."
   ]
  },
  {
   "cell_type": "code",
   "execution_count": 25,
   "metadata": {},
   "outputs": [
    {
     "data": {
      "image/png": "[encoded data removed]",
      "text/plain": [
       "<Figure size 432x288 with 1 Axes>"
      ]
     },
     "metadata": {
      "needs_background": "light"
     },
     "output_type": "display_data"
    }
   ],
   "source": [
    "# Essentially, repeat the dog process with cats to understand our data better. Right off you can see a difference between density in the histogram.\n",
    "dogvcat['Percentage of Cat Owners'].hist(bins=30, edgecolor='black');"
   ]
  },
  {
   "cell_type": "code",
   "execution_count": 27,
   "metadata": {},
   "outputs": [
    {
     "data": {
      "image/png": "[encoded data removed]",
      "text/plain": [
       "<Figure size 432x288 with 1 Axes>"
      ]
     },
     "metadata": {
      "needs_background": "light"
     },
     "output_type": "display_data"
    }
   ],
   "source": [
    "# More EDA... ~25-35%, higher total count...\n",
    "catFilter = dogvcat.loc[:, 'Percentage of Cat Owners'] >=20\n",
    "dogvcat.loc[catFilter, 'Percentage of Cat Owners'].hist(bins=30, edgecolor='black');"
   ]
  },
  {
   "cell_type": "markdown",
   "metadata": {},
   "source": [
    "3a. What can we see by comparing these two histograms? What information does this tell us?\n",
    "    \n",
    "    - I can see that the number of household cat owners are more dense, and own more cats, but the percentage of them are lower overall than dog owners, meanwhile the data in cats is\n",
    "    far more dense than the dogs."
   ]
  },
  {
   "cell_type": "markdown",
   "metadata": {},
   "source": [
    "3b. Optional/Bonus: plot these two histograms on the same plot."
   ]
  },
  {
   "cell_type": "code",
   "execution_count": 30,
   "metadata": {},
   "outputs": [
    {
     "data": {
      "text/plain": [
       "Text(0.5, 1.0, 'Cat Owners')"
      ]
     },
     "execution_count": 30,
     "metadata": {},
     "output_type": "execute_result"
    },
    {
     "data": {
      "image/png": "[encoded data removed]",
      "text/plain": [
       "<Figure size 432x288 with 2 Axes>"
      ]
     },
     "metadata": {
      "needs_background": "light"
     },
     "output_type": "display_data"
    }
   ],
   "source": [
    "plt.subplot(1,2,1)\n",
    "dogvcat['Percentage of Dog Owners'].hist(bins=30, edgecolor='black');\n",
    "plt.title('Dog Owners')\n",
    "\n",
    "plt.subplot(1,2,2)\n",
    "dogvcat['Percentage of Cat Owners'].hist(bins=30, edgecolor='black');\n",
    "plt.title('Cat Owners')"
   ]
  },
  {
   "cell_type": "code",
   "execution_count": null,
   "metadata": {},
   "outputs": [],
   "source": []
  }
 ],
 "metadata": {
  "kernelspec": {
   "display_name": "Python 3",
   "language": "python",
   "name": "python3"
  },
  "language_info": {
   "codemirror_mode": {
    "name": "ipython",
    "version": 3
   },
   "file_extension": ".py",
   "mimetype": "text/x-python",
   "name": "python",
   "nbconvert_exporter": "python",
   "pygments_lexer": "ipython3",
   "version": "3.8.5"
  }
 },
 "nbformat": 4,
 "nbformat_minor": 4
}
